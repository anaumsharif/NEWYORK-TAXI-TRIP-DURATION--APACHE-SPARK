{
 "cells": [
  {
   "cell_type": "code",
   "execution_count": 1,
   "id": "fc48fbf4-4663-48f9-9e93-c5e415b86a2d",
   "metadata": {},
   "outputs": [],
   "source": [
    "import pyspark\n",
    "from pyspark.sql import SparkSession"
   ]
  },
  {
   "cell_type": "code",
   "execution_count": 2,
   "id": "c541befe-c5ed-4b89-8f50-f765e0991f63",
   "metadata": {},
   "outputs": [],
   "source": [
    "# Creating a SparkSession\n",
    "spark = SparkSession.builder.appName(\"BigDataAnalytics\").getOrCreate()"
   ]
  },
  {
   "cell_type": "code",
   "execution_count": 3,
   "id": "c7c3523e-3eab-4ef1-97c9-2308f04095fb",
   "metadata": {},
   "outputs": [],
   "source": [
    "# Reading the dataset\n",
    "data = spark.read.csv(\"nyc_taxi_trip_duration.csv\", header=True, inferSchema=True)\n"
   ]
  },
  {
   "cell_type": "code",
   "execution_count": 4,
   "id": "25a9a2bd-971d-4e0a-ae63-320b3eaa08da",
   "metadata": {},
   "outputs": [
    {
     "name": "stdout",
     "output_type": "stream",
     "text": [
      "root\n",
      " |-- id: string (nullable = true)\n",
      " |-- vendor_id: integer (nullable = true)\n",
      " |-- pickup_datetime: timestamp (nullable = true)\n",
      " |-- dropoff_datetime: timestamp (nullable = true)\n",
      " |-- passenger_count: integer (nullable = true)\n",
      " |-- pickup_longitude: double (nullable = true)\n",
      " |-- pickup_latitude: double (nullable = true)\n",
      " |-- dropoff_longitude: double (nullable = true)\n",
      " |-- dropoff_latitude: double (nullable = true)\n",
      " |-- store_and_fwd_flag: string (nullable = true)\n",
      " |-- trip_duration: integer (nullable = true)\n",
      "\n"
     ]
    }
   ],
   "source": [
    "# Displaying the dataset schema\n",
    "data.printSchema()"
   ]
  },
  {
   "cell_type": "code",
   "execution_count": 5,
   "id": "93afb0ec-2f2b-4b96-b64f-5405e9f6ca9f",
   "metadata": {},
   "outputs": [
    {
     "name": "stdout",
     "output_type": "stream",
     "text": [
      "Number of records: 729322\n"
     ]
    }
   ],
   "source": [
    "# Counting the number of records in the dataset\n",
    "record_count = data.count()\n",
    "print(\"Number of records:\", record_count)"
   ]
  },
  {
   "cell_type": "code",
   "execution_count": 6,
   "id": "74ef1b2a-a061-4da7-b33d-d9bdceb7a353",
   "metadata": {},
   "outputs": [
    {
     "name": "stdout",
     "output_type": "stream",
     "text": [
      "+-------+-----------------+\n",
      "|summary|    trip_duration|\n",
      "+-------+-----------------+\n",
      "|  count|           729322|\n",
      "|   mean|952.2291333594764|\n",
      "| stddev|3864.626197281201|\n",
      "|    min|                1|\n",
      "|    max|          1939736|\n",
      "+-------+-----------------+\n",
      "\n"
     ]
    }
   ],
   "source": [
    "# Summary statistics of the trip duration\n",
    "data.describe(\"trip_duration\").show()"
   ]
  },
  {
   "cell_type": "code",
   "execution_count": 7,
   "id": "c519c354-1c72-4862-888a-685b0655a243",
   "metadata": {},
   "outputs": [],
   "source": [
    "# Dropping irrelevant columns\n",
    "data = data.drop(\"id\", \"vendor_id\",  \"dropoff_datetime\", \"store_and_fwd_flag\")"
   ]
  },
  {
   "cell_type": "code",
   "execution_count": 8,
   "id": "e92e6c31-6177-49cc-96ca-0ae7423cd72c",
   "metadata": {},
   "outputs": [],
   "source": [
    "# Handling missing values\n",
    "data = data.dropna()"
   ]
  },
  {
   "cell_type": "code",
   "execution_count": 9,
   "id": "c29baea2-5a84-44af-ae0b-1eb864f238ed",
   "metadata": {},
   "outputs": [
    {
     "name": "stdout",
     "output_type": "stream",
     "text": [
      "Number of duplicates: 0\n"
     ]
    }
   ],
   "source": [
    "# Checking for duplicates\n",
    "duplicate_count = data.count() - data.dropDuplicates().count()\n",
    "print(\"Number of duplicates:\", duplicate_count)"
   ]
  },
  {
   "cell_type": "code",
   "execution_count": 10,
   "id": "a952ce75-da96-4815-bb79-3b1e62a35591",
   "metadata": {},
   "outputs": [
    {
     "name": "stdout",
     "output_type": "stream",
     "text": [
      "root\n",
      " |-- pickup_datetime: timestamp (nullable = true)\n",
      " |-- passenger_count: integer (nullable = true)\n",
      " |-- pickup_longitude: double (nullable = true)\n",
      " |-- pickup_latitude: double (nullable = true)\n",
      " |-- dropoff_longitude: double (nullable = true)\n",
      " |-- dropoff_latitude: double (nullable = true)\n",
      " |-- trip_duration: integer (nullable = true)\n",
      "\n"
     ]
    }
   ],
   "source": [
    "data.printSchema()"
   ]
  },
  {
   "cell_type": "markdown",
   "id": "f200061f-676f-4245-9276-4e37592a6518",
   "metadata": {},
   "source": [
    "# DATA TRANSFORMATION & FEATURE ENGINEERING"
   ]
  },
  {
   "cell_type": "code",
   "execution_count": 11,
   "id": "5760ab71-0433-46f8-a1f9-3447fd6d9105",
   "metadata": {},
   "outputs": [],
   "source": [
    "# Importing necessary libraries\n",
    "from pyspark.sql.functions import col, hour, dayofweek"
   ]
  },
  {
   "cell_type": "code",
   "execution_count": 12,
   "id": "edaeafc5-fe86-46ee-9c40-a183b84d0cd8",
   "metadata": {},
   "outputs": [],
   "source": [
    "# Adding new features\n",
    "data = data.withColumn(\"pickup_hour\", hour(col(\"pickup_datetime\")))\n",
    "data = data.withColumn(\"pickup_dayofweek\", dayofweek(col(\"pickup_datetime\")))"
   ]
  },
  {
   "cell_type": "code",
   "execution_count": 13,
   "id": "807da3f3-ee22-4e00-a219-a20249b09579",
   "metadata": {},
   "outputs": [],
   "source": [
    "# Aggregating and summarizing data\n",
    "avg_duration_by_hour = data.groupBy(\"pickup_hour\").avg(\"trip_duration\").orderBy(\"pickup_hour\")\n",
    "avg_duration_by_day = data.groupBy(\"pickup_dayofweek\").avg(\"trip_duration\").orderBy(\"pickup_dayofweek\")"
   ]
  },
  {
   "cell_type": "code",
   "execution_count": 14,
   "id": "dc57bfeb-98bd-4383-a702-61585e3a7b6f",
   "metadata": {},
   "outputs": [
    {
     "name": "stdout",
     "output_type": "stream",
     "text": [
      "+-----------+------------------+\n",
      "|pickup_hour|avg(trip_duration)|\n",
      "+-----------+------------------+\n",
      "|          0| 963.9910948140388|\n",
      "|          1| 917.7236917320585|\n",
      "|          2| 887.7758595988539|\n",
      "|          3| 914.9622985418265|\n",
      "|          4| 895.4262169413569|\n",
      "|          5| 855.9168993484909|\n",
      "|          6| 715.8322861285645|\n",
      "|          7| 816.7712401906332|\n",
      "|          8| 940.6326907057004|\n",
      "|          9| 936.6747878537003|\n",
      "|         10| 940.1194937792314|\n",
      "|         11| 956.8290713719504|\n",
      "|         12| 980.4486599664991|\n",
      "|         13| 1004.789840022453|\n",
      "|         14|1069.0938308189654|\n",
      "|         15|1110.0400145711324|\n",
      "|         16|1099.9117802594333|\n",
      "|         17|1035.5630203847259|\n",
      "|         18|  982.354836578275|\n",
      "|         19| 888.5026954177897|\n",
      "+-----------+------------------+\n",
      "only showing top 20 rows\n",
      "\n",
      "+----------------+------------------+\n",
      "|pickup_dayofweek|avg(trip_duration)|\n",
      "+----------------+------------------+\n",
      "|               1| 894.5710878155647|\n",
      "|               2|  893.184554973822|\n",
      "|               3|  980.550279495131|\n",
      "|               4| 975.8995565030359|\n",
      "|               5|1005.4469289581505|\n",
      "|               6|  990.022998997709|\n",
      "|               7| 913.9861136305917|\n",
      "+----------------+------------------+\n",
      "\n"
     ]
    }
   ],
   "source": [
    "# Displaying the results\n",
    "avg_duration_by_hour.show()\n",
    "avg_duration_by_day.show()"
   ]
  },
  {
   "cell_type": "markdown",
   "id": "400e14ae-eed3-48bc-8cb5-7cf38c58bc4e",
   "metadata": {},
   "source": [
    "# VISUALIZATION"
   ]
  },
  {
   "cell_type": "code",
   "execution_count": 15,
   "id": "3de7bb8b-b85d-4500-bd60-87b539e32043",
   "metadata": {},
   "outputs": [],
   "source": [
    "# Importing necessary libraries\n",
    "import matplotlib.pyplot as plt"
   ]
  },
  {
   "cell_type": "code",
   "execution_count": 16,
   "id": "179f48ce-1841-4004-8df5-a85f1523c732",
   "metadata": {},
   "outputs": [
    {
     "name": "stderr",
     "output_type": "stream",
     "text": [
      "C:\\Users\\HP\\anaconda3\\lib\\site-packages\\pyspark\\sql\\pandas\\types.py:563: FutureWarning: is_datetime64tz_dtype is deprecated and will be removed in a future version. Check `isinstance(dtype, pd.DatetimeTZDtype)` instead.\n",
      "  if not is_datetime64tz_dtype(pser.dtype):\n",
      "C:\\Users\\HP\\anaconda3\\lib\\site-packages\\pyspark\\sql\\pandas\\types.py:379: FutureWarning: is_datetime64tz_dtype is deprecated and will be removed in a future version. Check `isinstance(dtype, pd.DatetimeTZDtype)` instead.\n",
      "  if is_datetime64tz_dtype(s.dtype):\n"
     ]
    }
   ],
   "source": [
    "# Converting DataFrame to Pandas DataFrame for visualization\n",
    "pandas_data = data.toPandas()"
   ]
  },
  {
   "cell_type": "code",
   "execution_count": 17,
   "id": "d4bdbc25-fbb3-4a24-b5ff-65c4d9fee867",
   "metadata": {},
   "outputs": [
    {
     "data": {
      "text/html": [
       "<div>\n",
       "<style scoped>\n",
       "    .dataframe tbody tr th:only-of-type {\n",
       "        vertical-align: middle;\n",
       "    }\n",
       "\n",
       "    .dataframe tbody tr th {\n",
       "        vertical-align: top;\n",
       "    }\n",
       "\n",
       "    .dataframe thead th {\n",
       "        text-align: right;\n",
       "    }\n",
       "</style>\n",
       "<table border=\"1\" class=\"dataframe\">\n",
       "  <thead>\n",
       "    <tr style=\"text-align: right;\">\n",
       "      <th></th>\n",
       "      <th>pickup_datetime</th>\n",
       "      <th>passenger_count</th>\n",
       "      <th>pickup_longitude</th>\n",
       "      <th>pickup_latitude</th>\n",
       "      <th>dropoff_longitude</th>\n",
       "      <th>dropoff_latitude</th>\n",
       "      <th>trip_duration</th>\n",
       "      <th>pickup_hour</th>\n",
       "      <th>pickup_dayofweek</th>\n",
       "    </tr>\n",
       "  </thead>\n",
       "  <tbody>\n",
       "    <tr>\n",
       "      <th>0</th>\n",
       "      <td>2016-02-29 16:40:21</td>\n",
       "      <td>1</td>\n",
       "      <td>-73.953918</td>\n",
       "      <td>40.778873</td>\n",
       "      <td>-73.963875</td>\n",
       "      <td>40.771164</td>\n",
       "      <td>400</td>\n",
       "      <td>16</td>\n",
       "      <td>2</td>\n",
       "    </tr>\n",
       "    <tr>\n",
       "      <th>1</th>\n",
       "      <td>2016-03-11 23:35:37</td>\n",
       "      <td>2</td>\n",
       "      <td>-73.988312</td>\n",
       "      <td>40.731743</td>\n",
       "      <td>-73.994751</td>\n",
       "      <td>40.694931</td>\n",
       "      <td>1100</td>\n",
       "      <td>23</td>\n",
       "      <td>6</td>\n",
       "    </tr>\n",
       "    <tr>\n",
       "      <th>2</th>\n",
       "      <td>2016-02-21 17:59:33</td>\n",
       "      <td>2</td>\n",
       "      <td>-73.997314</td>\n",
       "      <td>40.721458</td>\n",
       "      <td>-73.948029</td>\n",
       "      <td>40.774918</td>\n",
       "      <td>1635</td>\n",
       "      <td>17</td>\n",
       "      <td>1</td>\n",
       "    </tr>\n",
       "    <tr>\n",
       "      <th>3</th>\n",
       "      <td>2016-01-05 09:44:31</td>\n",
       "      <td>6</td>\n",
       "      <td>-73.961670</td>\n",
       "      <td>40.759720</td>\n",
       "      <td>-73.956779</td>\n",
       "      <td>40.780628</td>\n",
       "      <td>1141</td>\n",
       "      <td>9</td>\n",
       "      <td>3</td>\n",
       "    </tr>\n",
       "    <tr>\n",
       "      <th>4</th>\n",
       "      <td>2016-02-17 06:42:23</td>\n",
       "      <td>1</td>\n",
       "      <td>-74.017120</td>\n",
       "      <td>40.708469</td>\n",
       "      <td>-73.988182</td>\n",
       "      <td>40.740631</td>\n",
       "      <td>848</td>\n",
       "      <td>6</td>\n",
       "      <td>4</td>\n",
       "    </tr>\n",
       "  </tbody>\n",
       "</table>\n",
       "</div>"
      ],
      "text/plain": [
       "      pickup_datetime  passenger_count  pickup_longitude  pickup_latitude  \\\n",
       "0 2016-02-29 16:40:21                1        -73.953918        40.778873   \n",
       "1 2016-03-11 23:35:37                2        -73.988312        40.731743   \n",
       "2 2016-02-21 17:59:33                2        -73.997314        40.721458   \n",
       "3 2016-01-05 09:44:31                6        -73.961670        40.759720   \n",
       "4 2016-02-17 06:42:23                1        -74.017120        40.708469   \n",
       "\n",
       "   dropoff_longitude  dropoff_latitude  trip_duration  pickup_hour  \\\n",
       "0         -73.963875         40.771164            400           16   \n",
       "1         -73.994751         40.694931           1100           23   \n",
       "2         -73.948029         40.774918           1635           17   \n",
       "3         -73.956779         40.780628           1141            9   \n",
       "4         -73.988182         40.740631            848            6   \n",
       "\n",
       "   pickup_dayofweek  \n",
       "0                 2  \n",
       "1                 6  \n",
       "2                 1  \n",
       "3                 3  \n",
       "4                 4  "
      ]
     },
     "execution_count": 17,
     "metadata": {},
     "output_type": "execute_result"
    }
   ],
   "source": [
    "pandas_data.head()"
   ]
  },
  {
   "cell_type": "code",
   "execution_count": 18,
   "id": "d701d4ba-f678-4d44-8810-a565e93ba015",
   "metadata": {},
   "outputs": [
    {
     "data": {
      "image/png": "[encoded data removed]",
      "text/plain": [
       "<Figure size 640x480 with 1 Axes>"
      ]
     },
     "metadata": {},
     "output_type": "display_data"
    }
   ],
   "source": [
    "# Plotting trip duration distribution\n",
    "plt.hist(pandas_data[\"trip_duration\"], bins=30, edgecolor=\"black\")\n",
    "plt.xlabel(\"Trip Duration (seconds)\")\n",
    "plt.ylabel(\"Frequency\")\n",
    "plt.title(\"Distribution of Trip Durations\")\n",
    "plt.show()"
   ]
  },
  {
   "cell_type": "code",
   "execution_count": 19,
   "id": "2b26e0dd-c499-45c1-a804-28c534300ea2",
   "metadata": {},
   "outputs": [
    {
     "data": {
      "image/png": "[encoded data removed]",
      "text/plain": [
       "<Figure size 640x480 with 1 Axes>"
      ]
     },
     "metadata": {},
     "output_type": "display_data"
    }
   ],
   "source": [
    "# Plotting average trip duration by hour\n",
    "plt.plot(avg_duration_by_hour.toPandas()[\"pickup_hour\"], avg_duration_by_hour.toPandas()[\"avg(trip_duration)\"])\n",
    "plt.xlabel(\"Pickup Hour\")\n",
    "plt.ylabel(\"Average Trip Duration (seconds)\")\n",
    "plt.title(\"Average Trip Duration by Hour\")\n",
    "plt.show()"
   ]
  },
  {
   "cell_type": "markdown",
   "id": "75d36234-6811-4611-8c97-1251356aa883",
   "metadata": {},
   "source": [
    "# CONCLUSION "
   ]
  },
  {
   "cell_type": "code",
   "execution_count": null,
   "id": "5b951a86-671e-4696-ace0-4d0d9ade96fc",
   "metadata": {},
   "outputs": [],
   "source": [
    "# Using Apache Spark, we have discovered insights that can help us understand the New York City taxi trip durations\n",
    "# BIG DATA : Big data analytics helps us identify patterns, trends and relationships that may not be apparent at first glance.\n",
    "#            By harnessing the power of Apache Spark and its scalable processing capabilities, we can extract valuable insights from large \n",
    "#            and complex data sets, making data driven decisions With the insights gained from big data analytics, organizations can make \n",
    "#            informed decisions based on data\n",
    "\n",
    "\n",
    "# THE DISTRIBUTION OF TRIP DURATIONS: By visualizing the histogram, we gain an understanding of the spread and central tendency of trip durations.\n",
    "# This is crucial for managing taxi operations and predicting customer wait times patterns based on pickup hours through the line graph.\n",
    "\n",
    "# Patterns and Trends in 'average trip durations' based on the 'pickup hour'.\n",
    "# This knowledge can HELP in optimizing 'taxi availability during peak hours 'and improving overall efficiency.\n"
   ]
  }
 ],
 "metadata": {
  "kernelspec": {
   "display_name": "Python 3 (ipykernel)",
   "language": "python",
   "name": "python3"
  },
  "language_info": {
   "codemirror_mode": {
    "name": "ipython",
    "version": 3
   },
   "file_extension": ".py",
   "mimetype": "text/x-python",
   "name": "python",
   "nbconvert_exporter": "python",
   "pygments_lexer": "ipython3",
   "version": "3.9.18"
  }
 },
 "nbformat": 4,
 "nbformat_minor": 5
}
