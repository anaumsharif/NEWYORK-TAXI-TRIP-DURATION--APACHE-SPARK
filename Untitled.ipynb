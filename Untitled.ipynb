{
 "cells": [
  {
   "cell_type": "code",
   "execution_count": 1,
   "id": "8ad1dc54-e784-420c-bc24-6282341e9ad2",
   "metadata": {},
   "outputs": [
    {
     "name": "stdout",
     "output_type": "stream",
     "text": [
      "root\n",
      " |-- firstname: string (nullable = true)\n",
      " |-- middlename: string (nullable = true)\n",
      " |-- lastname: string (nullable = true)\n",
      " |-- dob: string (nullable = true)\n",
      " |-- gender: string (nullable = true)\n",
      " |-- salary: long (nullable = true)\n",
      "\n",
      "None\n"
     ]
    }
   ],
   "source": [
    "from pyspark.sql import SparkSession\n",
    "spark = SparkSession.builder\\\n",
    ".master(\"local\")\\\n",
    ".appName(\"test\")\\\n",
    ".getOrCreate()\n",
    "\n",
    "data=[\n",
    "('James','','Smith','1991-04-01','M',3000),\n",
    "('Michael','Rose','','2000-05-19','M',4000),\n",
    "('Robert','','Williams','1978-09-05','M',4000),\n",
    "('Maria','Anne','Jones','1978-09-05','F',4000),\n",
    "('Jen','Marv','Brown',' 1980-02—17','F',-1)\n",
    "]\n",
    "\n",
    "columns= [\"firstname\", \"middlename\", \"lastname\", \"dob\", \"gender\", \"salary\"]\n",
    "df =spark.createDataFrame(data=data, schema=columns)\n",
    "print(df.printSchema())"
   ]
  },
  {
   "cell_type": "code",
   "execution_count": null,
   "id": "b67cdb8f-d7e4-400b-8eb5-9e73b137108a",
   "metadata": {},
   "outputs": [],
   "source": []
  }
 ],
 "metadata": {
  "kernelspec": {
   "display_name": "Python 3 (ipykernel)",
   "language": "python",
   "name": "python3"
  },
  "language_info": {
   "codemirror_mode": {
    "name": "ipython",
    "version": 3
   },
   "file_extension": ".py",
   "mimetype": "text/x-python",
   "name": "python",
   "nbconvert_exporter": "python",
   "pygments_lexer": "ipython3",
   "version": "3.9.18"
  }
 },
 "nbformat": 4,
 "nbformat_minor": 5
}
